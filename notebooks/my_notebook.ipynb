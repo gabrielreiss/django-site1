{
 "metadata": {
  "language_info": {
   "codemirror_mode": {
    "name": "ipython",
    "version": 3
   },
   "file_extension": ".py",
   "mimetype": "text/x-python",
   "name": "python",
   "nbconvert_exporter": "python",
   "pygments_lexer": "ipython3",
   "version": "3.8.5-final"
  },
  "orig_nbformat": 2,
  "kernelspec": {
   "name": "python_defaultSpec_1600551287067",
   "display_name": "Python 3.8.5 64-bit ('t04': conda)"
  }
 },
 "nbformat": 4,
 "nbformat_minor": 2,
 "cells": [
  {
   "cell_type": "code",
   "execution_count": 114,
   "metadata": {},
   "outputs": [],
   "source": [
    "import os\n",
    "import pandas as pd\n",
    "\n",
    "BASE_DIR = '.'\n",
    "DATA_DIR = os.path.join(BASE_DIR, 'dados')"
   ]
  },
  {
   "cell_type": "code",
   "execution_count": 115,
   "metadata": {},
   "outputs": [
    {
     "output_type": "execute_result",
     "data": {
      "text/plain": "Index(['Nº Registro', 'Sexo', 'Data Admissão_Mês', 'Data Admissão_Ano',\n       'Data Nascito. Titular_Mês', 'Data Nascito. Titular_Ano',\n       'Salário ano 1', 'Data Nascito. Cônjuge_Mês',\n       'Data Nascito. Cônjuge_Ano', 'Data Nascito.Filho A_Mês',\n       'Data Nascito.Filho A_Ano', 'Data Nascito.Filho B_Mês',\n       'Data Nascito.Filho B_Ano', 'Data Nascito. Filho C_Mês',\n       'Data Nascito. Filho C_Ano', 'idade_titular', 'idade_conjuge',\n       'idade_filho_A', 'idade_filho_B', 'idade_filho_C', 'salário ano 2',\n       'classe', 'numero de dependentes', 'conjuge', 'filho A', 'filho B',\n       'filho C', 'qnt. Filhos', 'menor que 14'],\n      dtype='object')"
     },
     "metadata": {},
     "execution_count": 115
    }
   ],
   "source": [
    "base = pd.read_csv(os.path.join(DATA_DIR, 'base.csv'), sep=';', decimal= ',')\n",
    "base.columns"
   ]
  },
  {
   "cell_type": "code",
   "execution_count": 116,
   "metadata": {},
   "outputs": [
    {
     "output_type": "execute_result",
     "data": {
      "text/plain": "Nº Registro                   int64\nSexo                         object\nData Admissão_Mês             int64\nData Admissão_Ano             int64\nData Nascito. Titular_Mês     int64\nData Nascito. Titular_Ano     int64\nSalário ano 1                object\nData Nascito. Cônjuge_Mês     int64\nData Nascito. Cônjuge_Ano     int64\nData Nascito.Filho A_Mês      int64\nData Nascito.Filho A_Ano      int64\nData Nascito.Filho B_Mês      int64\nData Nascito.Filho B_Ano      int64\nData Nascito. Filho C_Mês     int64\nData Nascito. Filho C_Ano     int64\nIdade titular                 int64\nidade_conjuge                 int64\nidade_filho_A                 int64\nidade_filho_B                 int64\nidade_filho_C                 int64\nsalário ano 2                object\nclasse                       object\nnumero de dependentes         int64\nconjuge                      object\nfilho A                       int64\nfilho B                       int64\nfilho C                       int64\nqnt. Filhos                   int64\nmenor que 14                  int64\nTempo de Serviço              int64\ndtype: object"
     },
     "metadata": {},
     "execution_count": 116
    }
   ],
   "source": [
    "dados.dtypes"
   ]
  },
  {
   "cell_type": "code",
   "execution_count": 117,
   "metadata": {},
   "outputs": [
    {
     "output_type": "execute_result",
     "data": {
      "text/plain": "                 n  salario_medio\nidade_titular                    \n20               9    4240.354444\n21              13    3744.349231\n22              16    5296.860000\n23              15    5006.819333\n24              25    4701.286800\n25              26    5105.320385\n26              34    5645.776765\n27              23    3388.201304\n28              36    5264.736389\n29              46    5200.735000\n30              54    4520.154444\n31              68    5049.806618\n32              65    5224.667385\n33              76    4909.489079\n34              82    5119.474634\n35             105    6015.995524\n36             105    6196.279048\n37             101    5332.653267\n38             105    5355.118476\n39             129    6737.861705\n40              97    7318.200515\n41             102    6138.039706\n42              97    7226.320825\n43              95    6608.628105\n44              74    7636.648514\n45              66    6766.920758\n46              78    6700.072179\n47              73    7331.257671\n48              56    6589.032143\n49              59    8376.412373\n50              40    7738.210750\n51              43    8082.737442\n52              41    6540.175610\n53              29    6482.178276\n54              33    6376.345152\n55              25    6301.859600\n56              25    5126.893200\n57              17    9235.551176\n58              13    4660.374615\n59               9    4846.922222\n60              11    3660.890000\n61              11    5587.400909\n62              15    4456.642667\n63               4    4083.100000\n64               8    6523.290000\n65               4    6723.360000\n66               5    5601.458000\n67               2   10126.930000\n68               1    4816.210000",
      "text/html": "<div>\n<style scoped>\n    .dataframe tbody tr th:only-of-type {\n        vertical-align: middle;\n    }\n\n    .dataframe tbody tr th {\n        vertical-align: top;\n    }\n\n    .dataframe thead th {\n        text-align: right;\n    }\n</style>\n<table border=\"1\" class=\"dataframe\">\n  <thead>\n    <tr style=\"text-align: right;\">\n      <th></th>\n      <th>n</th>\n      <th>salario_medio</th>\n    </tr>\n    <tr>\n      <th>idade_titular</th>\n      <th></th>\n      <th></th>\n    </tr>\n  </thead>\n  <tbody>\n    <tr>\n      <th>20</th>\n      <td>9</td>\n      <td>4240.354444</td>\n    </tr>\n    <tr>\n      <th>21</th>\n      <td>13</td>\n      <td>3744.349231</td>\n    </tr>\n    <tr>\n      <th>22</th>\n      <td>16</td>\n      <td>5296.860000</td>\n    </tr>\n    <tr>\n      <th>23</th>\n      <td>15</td>\n      <td>5006.819333</td>\n    </tr>\n    <tr>\n      <th>24</th>\n      <td>25</td>\n      <td>4701.286800</td>\n    </tr>\n    <tr>\n      <th>25</th>\n      <td>26</td>\n      <td>5105.320385</td>\n    </tr>\n    <tr>\n      <th>26</th>\n      <td>34</td>\n      <td>5645.776765</td>\n    </tr>\n    <tr>\n      <th>27</th>\n      <td>23</td>\n      <td>3388.201304</td>\n    </tr>\n    <tr>\n      <th>28</th>\n      <td>36</td>\n      <td>5264.736389</td>\n    </tr>\n    <tr>\n      <th>29</th>\n      <td>46</td>\n      <td>5200.735000</td>\n    </tr>\n    <tr>\n      <th>30</th>\n      <td>54</td>\n      <td>4520.154444</td>\n    </tr>\n    <tr>\n      <th>31</th>\n      <td>68</td>\n      <td>5049.806618</td>\n    </tr>\n    <tr>\n      <th>32</th>\n      <td>65</td>\n      <td>5224.667385</td>\n    </tr>\n    <tr>\n      <th>33</th>\n      <td>76</td>\n      <td>4909.489079</td>\n    </tr>\n    <tr>\n      <th>34</th>\n      <td>82</td>\n      <td>5119.474634</td>\n    </tr>\n    <tr>\n      <th>35</th>\n      <td>105</td>\n      <td>6015.995524</td>\n    </tr>\n    <tr>\n      <th>36</th>\n      <td>105</td>\n      <td>6196.279048</td>\n    </tr>\n    <tr>\n      <th>37</th>\n      <td>101</td>\n      <td>5332.653267</td>\n    </tr>\n    <tr>\n      <th>38</th>\n      <td>105</td>\n      <td>5355.118476</td>\n    </tr>\n    <tr>\n      <th>39</th>\n      <td>129</td>\n      <td>6737.861705</td>\n    </tr>\n    <tr>\n      <th>40</th>\n      <td>97</td>\n      <td>7318.200515</td>\n    </tr>\n    <tr>\n      <th>41</th>\n      <td>102</td>\n      <td>6138.039706</td>\n    </tr>\n    <tr>\n      <th>42</th>\n      <td>97</td>\n      <td>7226.320825</td>\n    </tr>\n    <tr>\n      <th>43</th>\n      <td>95</td>\n      <td>6608.628105</td>\n    </tr>\n    <tr>\n      <th>44</th>\n      <td>74</td>\n      <td>7636.648514</td>\n    </tr>\n    <tr>\n      <th>45</th>\n      <td>66</td>\n      <td>6766.920758</td>\n    </tr>\n    <tr>\n      <th>46</th>\n      <td>78</td>\n      <td>6700.072179</td>\n    </tr>\n    <tr>\n      <th>47</th>\n      <td>73</td>\n      <td>7331.257671</td>\n    </tr>\n    <tr>\n      <th>48</th>\n      <td>56</td>\n      <td>6589.032143</td>\n    </tr>\n    <tr>\n      <th>49</th>\n      <td>59</td>\n      <td>8376.412373</td>\n    </tr>\n    <tr>\n      <th>50</th>\n      <td>40</td>\n      <td>7738.210750</td>\n    </tr>\n    <tr>\n      <th>51</th>\n      <td>43</td>\n      <td>8082.737442</td>\n    </tr>\n    <tr>\n      <th>52</th>\n      <td>41</td>\n      <td>6540.175610</td>\n    </tr>\n    <tr>\n      <th>53</th>\n      <td>29</td>\n      <td>6482.178276</td>\n    </tr>\n    <tr>\n      <th>54</th>\n      <td>33</td>\n      <td>6376.345152</td>\n    </tr>\n    <tr>\n      <th>55</th>\n      <td>25</td>\n      <td>6301.859600</td>\n    </tr>\n    <tr>\n      <th>56</th>\n      <td>25</td>\n      <td>5126.893200</td>\n    </tr>\n    <tr>\n      <th>57</th>\n      <td>17</td>\n      <td>9235.551176</td>\n    </tr>\n    <tr>\n      <th>58</th>\n      <td>13</td>\n      <td>4660.374615</td>\n    </tr>\n    <tr>\n      <th>59</th>\n      <td>9</td>\n      <td>4846.922222</td>\n    </tr>\n    <tr>\n      <th>60</th>\n      <td>11</td>\n      <td>3660.890000</td>\n    </tr>\n    <tr>\n      <th>61</th>\n      <td>11</td>\n      <td>5587.400909</td>\n    </tr>\n    <tr>\n      <th>62</th>\n      <td>15</td>\n      <td>4456.642667</td>\n    </tr>\n    <tr>\n      <th>63</th>\n      <td>4</td>\n      <td>4083.100000</td>\n    </tr>\n    <tr>\n      <th>64</th>\n      <td>8</td>\n      <td>6523.290000</td>\n    </tr>\n    <tr>\n      <th>65</th>\n      <td>4</td>\n      <td>6723.360000</td>\n    </tr>\n    <tr>\n      <th>66</th>\n      <td>5</td>\n      <td>5601.458000</td>\n    </tr>\n    <tr>\n      <th>67</th>\n      <td>2</td>\n      <td>10126.930000</td>\n    </tr>\n    <tr>\n      <th>68</th>\n      <td>1</td>\n      <td>4816.210000</td>\n    </tr>\n  </tbody>\n</table>\n</div>"
     },
     "metadata": {},
     "execution_count": 117
    }
   ],
   "source": [
    "ativos = base.pivot_table(index = 'idade_titular',\n",
    "                 values = ['Nº Registro', 'Salário ano 1'],\n",
    "                 aggfunc=['count', 'mean'])\n",
    "ativos.columns = ativos.columns.droplevel()\n",
    "ativos.columns = ['n',1,2,'salario_medio']\n",
    "ativos=ativos.drop(columns=[1,2])\n",
    "ativos"
   ]
  },
  {
   "cell_type": "code",
   "execution_count": null,
   "metadata": {},
   "outputs": [],
   "source": []
  }
 ]
}